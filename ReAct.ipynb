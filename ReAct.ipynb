{
  "nbformat": 4,
  "nbformat_minor": 0,
  "metadata": {
    "colab": {
      "provenance": []
    },
    "kernelspec": {
      "name": "python3",
      "display_name": "Python 3"
    },
    "language_info": {
      "name": "python"
    }
  },
  "cells": [
    {
      "cell_type": "code",
      "source": [
        "%pip install groq"
      ],
      "metadata": {
        "colab": {
          "base_uri": "https://localhost:8080/"
        },
        "collapsed": true,
        "id": "CtfvZByrJn3R",
        "outputId": "1236052e-31fd-4eed-970a-db60fab555aa"
      },
      "execution_count": 48,
      "outputs": [
        {
          "output_type": "stream",
          "name": "stdout",
          "text": [
            "Requirement already satisfied: groq in /usr/local/lib/python3.11/dist-packages (0.18.0)\n",
            "Requirement already satisfied: anyio<5,>=3.5.0 in /usr/local/lib/python3.11/dist-packages (from groq) (3.7.1)\n",
            "Requirement already satisfied: distro<2,>=1.7.0 in /usr/local/lib/python3.11/dist-packages (from groq) (1.9.0)\n",
            "Requirement already satisfied: httpx<1,>=0.23.0 in /usr/local/lib/python3.11/dist-packages (from groq) (0.28.1)\n",
            "Requirement already satisfied: pydantic<3,>=1.9.0 in /usr/local/lib/python3.11/dist-packages (from groq) (2.10.6)\n",
            "Requirement already satisfied: sniffio in /usr/local/lib/python3.11/dist-packages (from groq) (1.3.1)\n",
            "Requirement already satisfied: typing-extensions<5,>=4.10 in /usr/local/lib/python3.11/dist-packages (from groq) (4.12.2)\n",
            "Requirement already satisfied: idna>=2.8 in /usr/local/lib/python3.11/dist-packages (from anyio<5,>=3.5.0->groq) (3.10)\n",
            "Requirement already satisfied: certifi in /usr/local/lib/python3.11/dist-packages (from httpx<1,>=0.23.0->groq) (2025.1.31)\n",
            "Requirement already satisfied: httpcore==1.* in /usr/local/lib/python3.11/dist-packages (from httpx<1,>=0.23.0->groq) (1.0.7)\n",
            "Requirement already satisfied: h11<0.15,>=0.13 in /usr/local/lib/python3.11/dist-packages (from httpcore==1.*->httpx<1,>=0.23.0->groq) (0.14.0)\n",
            "Requirement already satisfied: annotated-types>=0.6.0 in /usr/local/lib/python3.11/dist-packages (from pydantic<3,>=1.9.0->groq) (0.7.0)\n",
            "Requirement already satisfied: pydantic-core==2.27.2 in /usr/local/lib/python3.11/dist-packages (from pydantic<3,>=1.9.0->groq) (2.27.2)\n"
          ]
        }
      ]
    },
    {
      "cell_type": "code",
      "execution_count": 49,
      "metadata": {
        "id": "HjO3ta7SJTVE"
      },
      "outputs": [],
      "source": [
        "import os\n",
        "os.environ['GROQ_API_KEY']= \"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\""
      ]
    },
    {
      "cell_type": "code",
      "source": [
        "import os\n",
        "\n",
        "from groq import Groq\n",
        "\n",
        "client = Groq(\n",
        "    api_key=os.environ.get(\"GROQ_API_KEY\"),\n",
        ")\n",
        "\n",
        "chat_completion = client.chat.completions.create(\n",
        "    messages=[\n",
        "        {\n",
        "            \"role\": \"user\",\n",
        "            \"content\": \"Explain the importance of fast language models\",\n",
        "        }\n",
        "    ],\n",
        "    model=\"llama-3.3-70b-versatile\",\n",
        ")\n",
        "\n",
        "print(chat_completion.choices[0].message.content)"
      ],
      "metadata": {
        "colab": {
          "base_uri": "https://localhost:8080/"
        },
        "id": "Rz9sLXa3URjs",
        "outputId": "4e30e86b-e842-457c-e8f5-a92dad050763"
      },
      "execution_count": 50,
      "outputs": [
        {
          "output_type": "stream",
          "name": "stdout",
          "text": [
            "Fast language models are crucial in today's technology landscape, and their importance can be understood from several perspectives:\n",
            "\n",
            "1. **Efficient Processing**: Fast language models enable efficient processing of vast amounts of text data, which is essential in various applications such as:\n",
            "\t* Sentiment analysis\n",
            "\t* Text classification\n",
            "\t* Language translation\n",
            "\t* Summarization\n",
            "\t* Question answering\n",
            "\t* Chatbots and conversational AI\n",
            "\n",
            "By quickly processing text data, fast language models facilitate real-time interactions, reducing latency and improving overall user experience.\n",
            "\n",
            "2. **Scalability**: Fast language models are scalable, allowing them to handle large volumes of text data without compromising performance. This is particularly important in applications such as:\n",
            "\t* Social media monitoring\n",
            "\t* Customer service chatbots\n",
            "\t* Content moderation\n",
            "\t* Document analysis\n",
            "\n",
            "Scalability ensures that language models can handle increasing amounts of data without becoming bottlenecked, enabling businesses to process and analyze vast amounts of text data efficiently.\n",
            "\n",
            "3. **Real-time Applications**: Fast language models are essential for real-time applications, such as:\n",
            "\t* Virtual assistants (e.g., Siri, Google Assistant, Alexa)\n",
            "\t* Live chat support\n",
            "\t* Real-time translation\n",
            "\t* Live sentiment analysis\n",
            "\n",
            "In these applications, fast language models enable immediate responses, facilitating seamless interactions between humans and machines.\n",
            "\n",
            "4. **Low Latency**: Fast language models minimize latency, which is critical in applications where delays can have significant consequences, such as:\n",
            "\t* Financial trading platforms\n",
            "\t* Emergency response systems\n",
            "\t* Healthcare applications\n",
            "\n",
            "By reducing latency, fast language models ensure that critical information is processed and responded to quickly, helping to prevent errors, improve decision-making, and save lives.\n",
            "\n",
            "5. **Edge AI**: Fast language models are vital for edge AI applications, where data is processed locally on devices (e.g., smartphones, smart home devices) rather than in the cloud. This enables:\n",
            "\t* Faster response times\n",
            "\t* Improved security\n",
            "\t* Reduced bandwidth usage\n",
            "\n",
            "By running language models on edge devices, businesses can reduce reliance on cloud infrastructure, improving overall efficiency and reducing costs.\n",
            "\n",
            "6. **Energy Efficiency**: Fast language models can help reduce energy consumption by:\n",
            "\t* Minimizing computational overhead\n",
            "\t* Reducing memory usage\n",
            "\t* Optimizing processing times\n",
            "\n",
            "This is particularly important in applications where energy efficiency is crucial, such as mobile devices, IoT devices, and data centers.\n",
            "\n",
            "7. **Cost Savings**: Fast language models can help businesses reduce costs by:\n",
            "\t* Minimizing infrastructure requirements\n",
            "\t* Reducing energy consumption\n",
            "\t* Improving processing efficiency\n",
            "\n",
            "By optimizing language model performance, businesses can allocate resources more efficiently, reducing overall costs and improving profitability.\n",
            "\n",
            "In summary, fast language models are essential for efficient processing, scalability, real-time applications, low latency, edge AI, energy efficiency, and cost savings. As language models continue to play a critical role in various industries, the importance of fast language models will only continue to grow.\n"
          ]
        }
      ]
    },
    {
      "cell_type": "code",
      "source": [
        "class Agent:\n",
        "  def __init__(self, client, system):\n",
        "    self.client = client\n",
        "    self.system = system #System Prompt, you work in a loop of action, thought, and observation\n",
        "    self.messages = []\n",
        "    if self.system is not None: #Initial System messages to the Language Model\n",
        "      self.messages.append({\"role\": \"system\", \"content\": self.system})\n",
        "\n",
        "  def __call__(self, message=\"\"):\n",
        "    if message:\n",
        "      self.messages.append({\"role\" : \"user\", \"content\" : message })\n",
        "    result = self.execute()\n",
        "    self.messages.append({\"role\" : \"assistant\", \"content\": result})\n",
        "    return result\n",
        "\n",
        "  def execute(self):\n",
        "    completion = client.chat.completions.create(\n",
        "        messages=self.messages,\n",
        "        model=\"llama3-70b-8192\",\n",
        "    )\n",
        "    return completion.choices[0].message.content\n"
      ],
      "metadata": {
        "id": "Yz4yMnESJ5DK"
      },
      "execution_count": 51,
      "outputs": []
    },
    {
      "cell_type": "code",
      "source": [
        "system_prompt = \"\"\"\n",
        "You run in a loop of Thought, Action, PAUSE, Observation.\n",
        "At the end of the loop output an Answer\n",
        "Use Thought to describe your thoughts about the question you have been asked.\n",
        "Use Action to run one of the actions available to you - then return PAUSE.\n",
        "Observation will be the result of running those actions.\n",
        "\n",
        "Your available actions are:\n",
        "\n",
        "calculate:\n",
        "e.g. calculate: 4 * 7 / 3\n",
        "Runs a calculation and returns the number - uses Python so be sure of the floating point syntax if necessary\n",
        "\n",
        "get_planet_mass:\n",
        "e.g. get_planet_mass: Earth\n",
        "returns weight of the planet in kilogram\n",
        "\n",
        "Example session:\n",
        "\n",
        "Question: What is the mass of Earth times 2?\n",
        "Thought: I need to find the mass of Earth\n",
        "Action: get_planet_mass: Earth\n",
        "PAUSE\n",
        "\n",
        "You will be called again with this:\n",
        "\n",
        "Observation: 5.972e24\n",
        "\n",
        "Thought: I need to multiply this with 2\n",
        "Action: calculate: 5.972e24 * 2\n",
        "PAUSE\n",
        "\n",
        "You will be called again with this:\n",
        "\n",
        "Observation: 1,1944x10e25\n",
        "\n",
        "If you have the answer, output it as the Answer.\n",
        "\n",
        "Answer: The mass of Earth times 2 is 1,1944x10e25 Kilograms.\n",
        "\n",
        "Now it's your turn:\n",
        "\"\"\".strip()"
      ],
      "metadata": {
        "id": "-EgD8fdSJ5Fg"
      },
      "execution_count": 52,
      "outputs": []
    },
    {
      "cell_type": "code",
      "source": [
        "# tools\n",
        "def calculate(operation):\n",
        "  return eval(operation)\n",
        "\n",
        "def get_planet_mass(planet) -> float:\n",
        "  match planet.lower():\n",
        "    case \"earth\":\n",
        "      return 5.972e24\n",
        "    case \"mars\":\n",
        "      return 6.39e23\n",
        "    case \"jupiter\":\n",
        "      return 1.898e27\n",
        "    case \"saturn\":\n",
        "      return 5.683e26\n",
        "    case \"uranus\":\n",
        "      return 8.681e25\n",
        "    case \"neptune\":\n",
        "      return 1.024e26\n",
        "    case \"mercury\":\n",
        "      return 3.285e23\n",
        "    case \"venus\":\n",
        "      return 4.867e24\n",
        "    case _:\n",
        "      return 0.0"
      ],
      "metadata": {
        "id": "fqL9P111J5JG"
      },
      "execution_count": 53,
      "outputs": []
    },
    {
      "cell_type": "code",
      "source": [
        "neil_tyson = Agent(client, system_prompt)"
      ],
      "metadata": {
        "id": "euRpkRdRJ5MY"
      },
      "execution_count": 54,
      "outputs": []
    },
    {
      "cell_type": "code",
      "source": [
        "result = neil_tyson(\"What is the mass of Earth times 5?\")\n",
        "print(result)"
      ],
      "metadata": {
        "colab": {
          "base_uri": "https://localhost:8080/"
        },
        "id": "ucoiW-IGJ5PE",
        "outputId": "6f9f51e7-8515-4cf3-d035-cd8b0f7ccfd4"
      },
      "execution_count": 55,
      "outputs": [
        {
          "output_type": "stream",
          "name": "stdout",
          "text": [
            "Thought: I need to find the mass of Earth\n"
          ]
        }
      ]
    },
    {
      "cell_type": "code",
      "source": [
        "neil_tyson.messages"
      ],
      "metadata": {
        "colab": {
          "base_uri": "https://localhost:8080/"
        },
        "id": "bkbNUQKqJ5SH",
        "outputId": "adb13ffa-88f4-49e4-e1fe-f79c34c57d65"
      },
      "execution_count": 56,
      "outputs": [
        {
          "output_type": "execute_result",
          "data": {
            "text/plain": [
              "[{'role': 'system',\n",
              "  'content': \"You run in a loop of Thought, Action, PAUSE, Observation.\\nAt the end of the loop output an Answer\\nUse Thought to describe your thoughts about the question you have been asked.\\nUse Action to run one of the actions available to you - then return PAUSE.\\nObservation will be the result of running those actions.\\n\\nYour available actions are:\\n\\ncalculate:\\ne.g. calculate: 4 * 7 / 3\\nRuns a calculation and returns the number - uses Python so be sure of the floating point syntax if necessary\\n\\nget_planet_mass:\\ne.g. get_planet_mass: Earth\\nreturns weight of the planet in kilogram\\n\\nExample session:\\n\\nQuestion: What is the mass of Earth times 2?\\nThought: I need to find the mass of Earth \\nAction: get_planet_mass: Earth\\nPAUSE\\n\\nYou will be called again with this:\\n\\nObservation: 5.972e24\\n\\nThought: I need to multiply this with 2\\nAction: calculate: 5.972e24 * 2\\nPAUSE\\n\\nYou will be called again with this:\\n\\nObservation: 1,1944x10e25\\n\\nIf you have the answer, output it as the Answer.\\n\\nAnswer: The mass of Earth times 2 is 1,1944x10e25 Kilograms.\\n\\nNow it's your turn:\"},\n",
              " {'role': 'user', 'content': 'What is the mass of Earth times 5?'},\n",
              " {'role': 'assistant', 'content': 'Thought: I need to find the mass of Earth'}]"
            ]
          },
          "metadata": {},
          "execution_count": 56
        }
      ]
    },
    {
      "cell_type": "code",
      "source": [
        "observation = get_planet_mass(\"Earth\")\n",
        "print(observation)"
      ],
      "metadata": {
        "colab": {
          "base_uri": "https://localhost:8080/"
        },
        "id": "8FxfuHzNWxNX",
        "outputId": "5b22ad9f-016e-4fb3-ffde-b2bde5c1fe1a"
      },
      "execution_count": 57,
      "outputs": [
        {
          "output_type": "stream",
          "name": "stdout",
          "text": [
            "5.972e+24\n"
          ]
        }
      ]
    },
    {
      "cell_type": "code",
      "source": [
        "next_prompt = f\"Observation : {observation}\"\n",
        "result = neil_tyson(next_prompt)\n",
        "print(result)"
      ],
      "metadata": {
        "colab": {
          "base_uri": "https://localhost:8080/"
        },
        "id": "IMmLlv91WxQW",
        "outputId": "309e1222-a469-4b2b-9da8-b60fd3942460"
      },
      "execution_count": 58,
      "outputs": [
        {
          "output_type": "stream",
          "name": "stdout",
          "text": [
            "Thought: I need to multiply this with 5\n"
          ]
        }
      ]
    },
    {
      "cell_type": "code",
      "source": [
        "neil_tyson.messages"
      ],
      "metadata": {
        "colab": {
          "base_uri": "https://localhost:8080/"
        },
        "id": "56p50blwWxTF",
        "outputId": "a61fe879-bab6-4ae4-caea-95759aec3988"
      },
      "execution_count": 59,
      "outputs": [
        {
          "output_type": "execute_result",
          "data": {
            "text/plain": [
              "[{'role': 'system',\n",
              "  'content': \"You run in a loop of Thought, Action, PAUSE, Observation.\\nAt the end of the loop output an Answer\\nUse Thought to describe your thoughts about the question you have been asked.\\nUse Action to run one of the actions available to you - then return PAUSE.\\nObservation will be the result of running those actions.\\n\\nYour available actions are:\\n\\ncalculate:\\ne.g. calculate: 4 * 7 / 3\\nRuns a calculation and returns the number - uses Python so be sure of the floating point syntax if necessary\\n\\nget_planet_mass:\\ne.g. get_planet_mass: Earth\\nreturns weight of the planet in kilogram\\n\\nExample session:\\n\\nQuestion: What is the mass of Earth times 2?\\nThought: I need to find the mass of Earth \\nAction: get_planet_mass: Earth\\nPAUSE\\n\\nYou will be called again with this:\\n\\nObservation: 5.972e24\\n\\nThought: I need to multiply this with 2\\nAction: calculate: 5.972e24 * 2\\nPAUSE\\n\\nYou will be called again with this:\\n\\nObservation: 1,1944x10e25\\n\\nIf you have the answer, output it as the Answer.\\n\\nAnswer: The mass of Earth times 2 is 1,1944x10e25 Kilograms.\\n\\nNow it's your turn:\"},\n",
              " {'role': 'user', 'content': 'What is the mass of Earth times 5?'},\n",
              " {'role': 'assistant', 'content': 'Thought: I need to find the mass of Earth'},\n",
              " {'role': 'user', 'content': 'Observation : 5.972e+24'},\n",
              " {'role': 'assistant', 'content': 'Thought: I need to multiply this with 5'}]"
            ]
          },
          "metadata": {},
          "execution_count": 59
        }
      ]
    },
    {
      "cell_type": "code",
      "source": [
        "observation = calculate(\"5.972e24 * 5\")\n",
        "print(observation)"
      ],
      "metadata": {
        "colab": {
          "base_uri": "https://localhost:8080/"
        },
        "id": "5W1satO4WxVT",
        "outputId": "5619f54e-bb57-49a4-d00a-662725b093c6"
      },
      "execution_count": 60,
      "outputs": [
        {
          "output_type": "stream",
          "name": "stdout",
          "text": [
            "2.9860000000000004e+25\n"
          ]
        }
      ]
    },
    {
      "cell_type": "code",
      "source": [
        "next_prompt = f\"Observation : {observation}\"\n",
        "result = neil_tyson(next_prompt)\n",
        "print(result)"
      ],
      "metadata": {
        "colab": {
          "base_uri": "https://localhost:8080/"
        },
        "id": "1Bltwd_OYI5G",
        "outputId": "23df764e-094b-490d-b9b6-bc37bb043af4"
      },
      "execution_count": 61,
      "outputs": [
        {
          "output_type": "stream",
          "name": "stdout",
          "text": [
            "Answer: The mass of Earth times 5 is 2.9860000000000004e+25 Kilograms.\n"
          ]
        }
      ]
    },
    {
      "cell_type": "code",
      "source": [
        "neil_tyson.messages"
      ],
      "metadata": {
        "colab": {
          "base_uri": "https://localhost:8080/"
        },
        "id": "FAoXTRTPYO-v",
        "outputId": "19e1d4aa-a87e-486b-d5d7-90f4f4234fd0"
      },
      "execution_count": 62,
      "outputs": [
        {
          "output_type": "execute_result",
          "data": {
            "text/plain": [
              "[{'role': 'system',\n",
              "  'content': \"You run in a loop of Thought, Action, PAUSE, Observation.\\nAt the end of the loop output an Answer\\nUse Thought to describe your thoughts about the question you have been asked.\\nUse Action to run one of the actions available to you - then return PAUSE.\\nObservation will be the result of running those actions.\\n\\nYour available actions are:\\n\\ncalculate:\\ne.g. calculate: 4 * 7 / 3\\nRuns a calculation and returns the number - uses Python so be sure of the floating point syntax if necessary\\n\\nget_planet_mass:\\ne.g. get_planet_mass: Earth\\nreturns weight of the planet in kilogram\\n\\nExample session:\\n\\nQuestion: What is the mass of Earth times 2?\\nThought: I need to find the mass of Earth \\nAction: get_planet_mass: Earth\\nPAUSE\\n\\nYou will be called again with this:\\n\\nObservation: 5.972e24\\n\\nThought: I need to multiply this with 2\\nAction: calculate: 5.972e24 * 2\\nPAUSE\\n\\nYou will be called again with this:\\n\\nObservation: 1,1944x10e25\\n\\nIf you have the answer, output it as the Answer.\\n\\nAnswer: The mass of Earth times 2 is 1,1944x10e25 Kilograms.\\n\\nNow it's your turn:\"},\n",
              " {'role': 'user', 'content': 'What is the mass of Earth times 5?'},\n",
              " {'role': 'assistant', 'content': 'Thought: I need to find the mass of Earth'},\n",
              " {'role': 'user', 'content': 'Observation : 5.972e+24'},\n",
              " {'role': 'assistant', 'content': 'Thought: I need to multiply this with 5'},\n",
              " {'role': 'user', 'content': 'Observation : 2.9860000000000004e+25'},\n",
              " {'role': 'assistant',\n",
              "  'content': 'Answer: The mass of Earth times 5 is 2.9860000000000004e+25 Kilograms.'}]"
            ]
          },
          "metadata": {},
          "execution_count": 62
        }
      ]
    },
    {
      "cell_type": "code",
      "source": [
        "import re\n",
        "\n",
        "def agent_loop(max_iterations, system, query):\n",
        "  agent = Agent(client, system_prompt)\n",
        "  tools = ['calculate', 'get_planet_mass']\n",
        "  next_prompt = query\n",
        "  i = 0\n",
        "  while i < max_iterations:\n",
        "    i += 1\n",
        "    result = agent(next_prompt)\n",
        "    print(result)\n",
        "\n",
        "    if \"PAUSE\" in result and \"Action\" in result:\n",
        "      action = re.findall(r\"Action: ([a-z_]+): (.+)\", result, re.IGNORECASE)\n",
        "      chosen_tool = action[0][0]\n",
        "      arg = action[0][1]\n",
        "\n",
        "      if chosen_tool in tools:\n",
        "        result_tool = eval(f\"{chosen_tool}('{arg}')\")\n",
        "        next_prompt = f\"Observation: {result_tool}\"\n",
        "\n",
        "      else:\n",
        "        next_prompt = \"Observation: Tool not found\"\n",
        "\n",
        "      print(next_prompt)\n",
        "      continue\n",
        "\n",
        "    if \"Answer\" in result:\n",
        "      break"
      ],
      "metadata": {
        "id": "3q4TrD43ll5f"
      },
      "execution_count": 66,
      "outputs": []
    },
    {
      "cell_type": "code",
      "source": [
        "agent_loop(max_iterations=10, system = system_prompt, query= \"What is the mass of earth plus the mass of mercury and all of it times 5?\")"
      ],
      "metadata": {
        "colab": {
          "base_uri": "https://localhost:8080/"
        },
        "id": "cswR5YKslmAN",
        "outputId": "a0b173ce-4004-4a24-d7aa-b2f0a71204e7"
      },
      "execution_count": 67,
      "outputs": [
        {
          "output_type": "stream",
          "name": "stdout",
          "text": [
            "Thought: I need to find the mass of Earth and Mercury, and then multiply it by 5.\n",
            "Action: get_planet_mass: Earth\n",
            "PAUSE\n",
            "Observation: 5.972e+24\n",
            "Thought: I have the mass of Earth, now I need to find the mass of Mercury.\n",
            "Action: get_planet_mass: Mercury\n",
            "PAUSE\n",
            "Observation: 3.285e+23\n",
            "Thought: I have the masses of both planets, now I need to add them together.\n",
            "Action: calculate: 5.972e+24 + 3.285e+23\n",
            "PAUSE\n",
            "Observation: 6.300500000000001e+24\n",
            "Thought: Now I need to multiply the sum by 5.\n",
            "Action: calculate: 6.300500000000001e+24 * 5\n",
            "PAUSE\n",
            "Observation: 3.1502500000000004e+25\n",
            "Thought: I have the result, now I can output the answer.\n",
            "\n",
            "Answer: The mass of Earth plus the mass of Mercury and all of it times 5 is 3.1502500000000004e+25 Kilograms.\n"
          ]
        }
      ]
    },
    {
      "cell_type": "code",
      "source": [],
      "metadata": {
        "id": "OAdW543AlmDA"
      },
      "execution_count": null,
      "outputs": []
    },
    {
      "cell_type": "code",
      "source": [],
      "metadata": {
        "id": "fc8mBH-WlmGX"
      },
      "execution_count": null,
      "outputs": []
    }
  ]
}